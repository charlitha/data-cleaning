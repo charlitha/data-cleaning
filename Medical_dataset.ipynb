{
 "cells": [
  {
   "cell_type": "code",
   "execution_count": 2,
   "id": "b0c2f32d-e4a5-4382-a1a5-c22f87c358a3",
   "metadata": {},
   "outputs": [
    {
     "name": "stdout",
     "output_type": "stream",
     "text": [
      "Shape: (110527, 14)\n",
      "Missing values:\n",
      " PatientId         0\n",
      "AppointmentID     0\n",
      "Gender            0\n",
      "ScheduledDay      0\n",
      "AppointmentDay    0\n",
      "Age               0\n",
      "Neighbourhood     0\n",
      "Scholarship       0\n",
      "Hipertension      0\n",
      "Diabetes          0\n",
      "Alcoholism        0\n",
      "Handcap           0\n",
      "SMS_received      0\n",
      "No-show           0\n",
      "dtype: int64\n",
      " Cleaned dataset saved as 'medical_appointments_cleaned_v2.csv'\n"
     ]
    }
   ],
   "source": [
    "import pandas as pd\n",
    "\n",
    "# Load dataset\n",
    "df = pd.read_csv(\"medical_appointments.csv\")\n",
    "\n",
    "# 1. Basic inspection\n",
    "print(\"Shape:\", df.shape)\n",
    "print(\"Missing values:\\n\", df.isnull().sum())\n",
    "\n",
    "# 2. Remove duplicates\n",
    "df = df.drop_duplicates()\n",
    "\n",
    "# 3. Handle invalid values\n",
    "df = df[df['Age'] >= 0]  # remove rows with negative age\n",
    "\n",
    "# 4. Standardize text: strip spaces and capitalize 'Gender', 'No-show'\n",
    "df['Gender'] = df['Gender'].str.strip().str.upper()\n",
    "df['No-show'] = df['No-show'].str.strip().str.upper()\n",
    "\n",
    "# 5. Convert 'No-show' to numeric: NO = 0 (came), YES = 1 (did not come)\n",
    "df['No_show_flag'] = df['No-show'].map({'NO': 0, 'YES': 1})\n",
    "\n",
    "# 6. Drop original 'No-show' column\n",
    "df = df.drop(columns=['No-show'])\n",
    "\n",
    "# 7. Clean and rename columns\n",
    "df.columns = df.columns.str.strip().str.lower().str.replace('-', '_').str.replace(' ', '_')\n",
    "\n",
    "# 8. Convert datetime columns\n",
    "df['scheduledday'] = pd.to_datetime(df['scheduledday'], errors='coerce')\n",
    "df['appointmentday'] = pd.to_datetime(df['appointmentday'], errors='coerce')\n",
    "\n",
    "# 9. Add new column: waiting_days (days between scheduled and appointment)\n",
    "df['waiting_days'] = (df['appointmentday'] - df['scheduledday']).dt.days\n",
    "\n",
    "# 10. Remove rows with negative waiting days (data errors)\n",
    "df = df[df['waiting_days'] >= 0]\n",
    "\n",
    "# 11. Reset index\n",
    "df = df.reset_index(drop=True)\n",
    "\n",
    "# 12. Save cleaned dataset\n",
    "df.to_csv(\"medical_appointments_cleaned_v2.csv\", index=False)\n",
    "print(\" Cleaned dataset saved as 'medical_appointments_cleaned_v2.csv'\")"
   ]
  },
  {
   "cell_type": "code",
   "execution_count": null,
   "id": "58c6bb1d-5cf4-4c92-9227-6d5535a0cc73",
   "metadata": {},
   "outputs": [],
   "source": []
  }
 ],
 "metadata": {
  "kernelspec": {
   "display_name": "Python [conda env:base] *",
   "language": "python",
   "name": "conda-base-py"
  },
  "language_info": {
   "codemirror_mode": {
    "name": "ipython",
    "version": 3
   },
   "file_extension": ".py",
   "mimetype": "text/x-python",
   "name": "python",
   "nbconvert_exporter": "python",
   "pygments_lexer": "ipython3",
   "version": "3.12.7"
  }
 },
 "nbformat": 4,
 "nbformat_minor": 5
}
